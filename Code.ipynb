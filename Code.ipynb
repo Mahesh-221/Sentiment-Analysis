{
 "cells": [
  {
   "cell_type": "code",
   "execution_count": 1,
   "id": "40ce1d35-a4c4-4f7e-a867-447e9cd1bbd8",
   "metadata": {},
   "outputs": [],
   "source": [
    "#Importing Libraries\n",
    "import pandas as pd\n",
    "import numpy as np"
   ]
  },
  {
   "cell_type": "code",
   "execution_count": 2,
   "id": "d79d9f29-eae6-4bb8-8638-fc75a2565d55",
   "metadata": {},
   "outputs": [],
   "source": [
    "#importing the test data\n",
    "df = pd.read_excel('test_data.xlsx')"
   ]
  },
  {
   "cell_type": "code",
   "execution_count": 3,
   "id": "8f45a634-9cae-4860-aac3-0d82a17f3e00",
   "metadata": {},
   "outputs": [
    {
     "data": {
      "text/html": [
       "<div>\n",
       "<style scoped>\n",
       "    .dataframe tbody tr th:only-of-type {\n",
       "        vertical-align: middle;\n",
       "    }\n",
       "\n",
       "    .dataframe tbody tr th {\n",
       "        vertical-align: top;\n",
       "    }\n",
       "\n",
       "    .dataframe thead th {\n",
       "        text-align: right;\n",
       "    }\n",
       "</style>\n",
       "<table border=\"1\" class=\"dataframe\">\n",
       "  <thead>\n",
       "    <tr style=\"text-align: right;\">\n",
       "      <th></th>\n",
       "      <th>Date</th>\n",
       "      <th>Location</th>\n",
       "      <th>Reviews</th>\n",
       "    </tr>\n",
       "  </thead>\n",
       "  <tbody>\n",
       "    <tr>\n",
       "      <th>0</th>\n",
       "      <td>2019-08-20</td>\n",
       "      <td>Sebastian</td>\n",
       "      <td>I was very impressed with the resort.\\nGreat s...</td>\n",
       "    </tr>\n",
       "    <tr>\n",
       "      <th>1</th>\n",
       "      <td>2019-08-20</td>\n",
       "      <td>Los Angeles</td>\n",
       "      <td>The rooms were nice the outside needs work als...</td>\n",
       "    </tr>\n",
       "    <tr>\n",
       "      <th>2</th>\n",
       "      <td>2019-08-20</td>\n",
       "      <td>Georgia</td>\n",
       "      <td>Great location! I have stayed at this hotel on...</td>\n",
       "    </tr>\n",
       "    <tr>\n",
       "      <th>3</th>\n",
       "      <td>2019-08-20</td>\n",
       "      <td>NaN</td>\n",
       "      <td>The hotel was adequate for my stay. The strips...</td>\n",
       "    </tr>\n",
       "    <tr>\n",
       "      <th>4</th>\n",
       "      <td>2019-08-19</td>\n",
       "      <td>Palm Harbor</td>\n",
       "      <td>Great location, room was large and spacious. P...</td>\n",
       "    </tr>\n",
       "  </tbody>\n",
       "</table>\n",
       "</div>"
      ],
      "text/plain": [
       "        Date     Location                                            Reviews\n",
       "0 2019-08-20    Sebastian  I was very impressed with the resort.\\nGreat s...\n",
       "1 2019-08-20  Los Angeles  The rooms were nice the outside needs work als...\n",
       "2 2019-08-20      Georgia  Great location! I have stayed at this hotel on...\n",
       "3 2019-08-20          NaN  The hotel was adequate for my stay. The strips...\n",
       "4 2019-08-19  Palm Harbor  Great location, room was large and spacious. P..."
      ]
     },
     "execution_count": 3,
     "metadata": {},
     "output_type": "execute_result"
    }
   ],
   "source": [
    "#Overview of data\n",
    "df.head()"
   ]
  },
  {
   "cell_type": "code",
   "execution_count": 5,
   "id": "4f53c5a7-ec6c-48d3-8596-c4b5d970065c",
   "metadata": {},
   "outputs": [
    {
     "name": "stderr",
     "output_type": "stream",
     "text": [
      "[nltk_data] Downloading package vader_lexicon to\n",
      "[nltk_data]     C:\\Users\\91784\\AppData\\Roaming\\nltk_data...\n",
      "[nltk_data]   Package vader_lexicon is already up-to-date!\n",
      "[nltk_data] Downloading package words to\n",
      "[nltk_data]     C:\\Users\\91784\\AppData\\Roaming\\nltk_data...\n",
      "[nltk_data]   Package words is already up-to-date!\n"
     ]
    }
   ],
   "source": [
    "#Importing NLTK library to do sentiment analysis\n",
    "\n",
    "import nltk\n",
    "nltk.download('vader_lexicon')\n",
    "from nltk.sentiment.vader import SentimentIntensityAnalyzer\n",
    "\n",
    "sid = SentimentIntensityAnalyzer()\n",
    "\n",
    "import re\n",
    "import nltk\n",
    "nltk.download('words')\n",
    "words = set(nltk.corpus.words.words())"
   ]
  },
  {
   "cell_type": "code",
   "execution_count": 6,
   "id": "93cf8eef-1e07-4299-be07-fa6fcc8b6c7b",
   "metadata": {},
   "outputs": [
    {
     "data": {
      "text/plain": [
       "0.9421"
      ]
     },
     "execution_count": 6,
     "metadata": {},
     "output_type": "execute_result"
    }
   ],
   "source": [
    "#analyzing the reviews with SID module for first row\n",
    "\n",
    "sentence = df['Reviews'][0]\n",
    "sid.polarity_scores(sentence)['compound']"
   ]
  },
  {
   "cell_type": "code",
   "execution_count": 7,
   "id": "3147a317-6f6e-4590-8502-4031c7fd79e7",
   "metadata": {},
   "outputs": [],
   "source": [
    "#Storing the sentiment for all rows in a new list\n",
    "\n",
    "list1 = []\n",
    "for i in df['Reviews']:\n",
    "    list1.append((sid.polarity_scores(str(i)))['compound'])"
   ]
  },
  {
   "cell_type": "code",
   "execution_count": 8,
   "id": "9643a274-fdbb-4a9d-be5b-c15a27bce62e",
   "metadata": {},
   "outputs": [],
   "source": [
    "#creating a function to categorize the sentiment in Positive/Negative/Neutral\n",
    "\n",
    "df['sentiment'] = pd.Series(list1)\n",
    "\n",
    "def sentiment_category(sentiment):\n",
    "    label = ''\n",
    "    if(sentiment>0):\n",
    "        label = 'positive'\n",
    "    elif(sentiment == 0):\n",
    "        label = 'neutral'\n",
    "    else:\n",
    "        label = 'negative'\n",
    "    return(label)\n",
    "\n",
    "df['sentiment_category'] = df['sentiment'].apply(sentiment_category)"
   ]
  },
  {
   "cell_type": "code",
   "execution_count": 9,
   "id": "12839187-b392-4cf2-90ae-fffd4422d39e",
   "metadata": {},
   "outputs": [
    {
     "data": {
      "text/html": [
       "<div>\n",
       "<style scoped>\n",
       "    .dataframe tbody tr th:only-of-type {\n",
       "        vertical-align: middle;\n",
       "    }\n",
       "\n",
       "    .dataframe tbody tr th {\n",
       "        vertical-align: top;\n",
       "    }\n",
       "\n",
       "    .dataframe thead th {\n",
       "        text-align: right;\n",
       "    }\n",
       "</style>\n",
       "<table border=\"1\" class=\"dataframe\">\n",
       "  <thead>\n",
       "    <tr style=\"text-align: right;\">\n",
       "      <th></th>\n",
       "      <th>Date</th>\n",
       "      <th>Location</th>\n",
       "      <th>Reviews</th>\n",
       "      <th>sentiment</th>\n",
       "      <th>sentiment_category</th>\n",
       "    </tr>\n",
       "  </thead>\n",
       "  <tbody>\n",
       "    <tr>\n",
       "      <th>0</th>\n",
       "      <td>2019-08-20</td>\n",
       "      <td>Sebastian</td>\n",
       "      <td>I was very impressed with the resort.\\nGreat s...</td>\n",
       "      <td>0.9421</td>\n",
       "      <td>positive</td>\n",
       "    </tr>\n",
       "    <tr>\n",
       "      <th>1</th>\n",
       "      <td>2019-08-20</td>\n",
       "      <td>Los Angeles</td>\n",
       "      <td>The rooms were nice the outside needs work als...</td>\n",
       "      <td>0.8360</td>\n",
       "      <td>positive</td>\n",
       "    </tr>\n",
       "    <tr>\n",
       "      <th>2</th>\n",
       "      <td>2019-08-20</td>\n",
       "      <td>Georgia</td>\n",
       "      <td>Great location! I have stayed at this hotel on...</td>\n",
       "      <td>0.6588</td>\n",
       "      <td>positive</td>\n",
       "    </tr>\n",
       "    <tr>\n",
       "      <th>3</th>\n",
       "      <td>2019-08-20</td>\n",
       "      <td>NaN</td>\n",
       "      <td>The hotel was adequate for my stay. The strips...</td>\n",
       "      <td>0.3634</td>\n",
       "      <td>positive</td>\n",
       "    </tr>\n",
       "    <tr>\n",
       "      <th>4</th>\n",
       "      <td>2019-08-19</td>\n",
       "      <td>Palm Harbor</td>\n",
       "      <td>Great location, room was large and spacious. P...</td>\n",
       "      <td>0.9260</td>\n",
       "      <td>positive</td>\n",
       "    </tr>\n",
       "  </tbody>\n",
       "</table>\n",
       "</div>"
      ],
      "text/plain": [
       "        Date     Location                                            Reviews  \\\n",
       "0 2019-08-20    Sebastian  I was very impressed with the resort.\\nGreat s...   \n",
       "1 2019-08-20  Los Angeles  The rooms were nice the outside needs work als...   \n",
       "2 2019-08-20      Georgia  Great location! I have stayed at this hotel on...   \n",
       "3 2019-08-20          NaN  The hotel was adequate for my stay. The strips...   \n",
       "4 2019-08-19  Palm Harbor  Great location, room was large and spacious. P...   \n",
       "\n",
       "   sentiment sentiment_category  \n",
       "0     0.9421           positive  \n",
       "1     0.8360           positive  \n",
       "2     0.6588           positive  \n",
       "3     0.3634           positive  \n",
       "4     0.9260           positive  "
      ]
     },
     "execution_count": 9,
     "metadata": {},
     "output_type": "execute_result"
    }
   ],
   "source": [
    "#Overview of new data\n",
    "df.head()"
   ]
  },
  {
   "cell_type": "code",
   "execution_count": 10,
   "id": "44e6b43c-f897-4f19-9119-727a5a95651e",
   "metadata": {},
   "outputs": [],
   "source": [
    "#Dividing the data into 2 Parts and grouping them by date\n",
    "\n",
    "neg = df[df['sentiment_category']=='negative']\n",
    "neg = neg.groupby(['Date'],as_index=False).count()\n",
    "\n",
    "pos = df[df['sentiment_category']=='positive']\n",
    "pos = pos.groupby(['Date'],as_index=False).count()"
   ]
  },
  {
   "cell_type": "code",
   "execution_count": 11,
   "id": "0e84b225-e32b-48aa-a528-e0cd8a1b13f2",
   "metadata": {},
   "outputs": [
    {
     "data": {
      "text/html": [
       "<div>\n",
       "<style scoped>\n",
       "    .dataframe tbody tr th:only-of-type {\n",
       "        vertical-align: middle;\n",
       "    }\n",
       "\n",
       "    .dataframe tbody tr th {\n",
       "        vertical-align: top;\n",
       "    }\n",
       "\n",
       "    .dataframe thead th {\n",
       "        text-align: right;\n",
       "    }\n",
       "</style>\n",
       "<table border=\"1\" class=\"dataframe\">\n",
       "  <thead>\n",
       "    <tr style=\"text-align: right;\">\n",
       "      <th></th>\n",
       "      <th>Date</th>\n",
       "      <th>Location</th>\n",
       "      <th>Reviews</th>\n",
       "      <th>sentiment</th>\n",
       "      <th>sentiment_category</th>\n",
       "    </tr>\n",
       "  </thead>\n",
       "  <tbody>\n",
       "    <tr>\n",
       "      <th>0</th>\n",
       "      <td>2018-08-01</td>\n",
       "      <td>0</td>\n",
       "      <td>12</td>\n",
       "      <td>12</td>\n",
       "      <td>12</td>\n",
       "    </tr>\n",
       "    <tr>\n",
       "      <th>1</th>\n",
       "      <td>2018-08-02</td>\n",
       "      <td>0</td>\n",
       "      <td>2</td>\n",
       "      <td>2</td>\n",
       "      <td>2</td>\n",
       "    </tr>\n",
       "    <tr>\n",
       "      <th>2</th>\n",
       "      <td>2018-08-03</td>\n",
       "      <td>0</td>\n",
       "      <td>2</td>\n",
       "      <td>2</td>\n",
       "      <td>2</td>\n",
       "    </tr>\n",
       "    <tr>\n",
       "      <th>3</th>\n",
       "      <td>2018-08-04</td>\n",
       "      <td>1</td>\n",
       "      <td>2</td>\n",
       "      <td>2</td>\n",
       "      <td>2</td>\n",
       "    </tr>\n",
       "    <tr>\n",
       "      <th>4</th>\n",
       "      <td>2018-08-05</td>\n",
       "      <td>1</td>\n",
       "      <td>2</td>\n",
       "      <td>2</td>\n",
       "      <td>2</td>\n",
       "    </tr>\n",
       "    <tr>\n",
       "      <th>...</th>\n",
       "      <td>...</td>\n",
       "      <td>...</td>\n",
       "      <td>...</td>\n",
       "      <td>...</td>\n",
       "      <td>...</td>\n",
       "    </tr>\n",
       "    <tr>\n",
       "      <th>342</th>\n",
       "      <td>2019-08-13</td>\n",
       "      <td>3</td>\n",
       "      <td>4</td>\n",
       "      <td>4</td>\n",
       "      <td>4</td>\n",
       "    </tr>\n",
       "    <tr>\n",
       "      <th>343</th>\n",
       "      <td>2019-08-14</td>\n",
       "      <td>2</td>\n",
       "      <td>2</td>\n",
       "      <td>2</td>\n",
       "      <td>2</td>\n",
       "    </tr>\n",
       "    <tr>\n",
       "      <th>344</th>\n",
       "      <td>2019-08-17</td>\n",
       "      <td>5</td>\n",
       "      <td>6</td>\n",
       "      <td>6</td>\n",
       "      <td>6</td>\n",
       "    </tr>\n",
       "    <tr>\n",
       "      <th>345</th>\n",
       "      <td>2019-08-18</td>\n",
       "      <td>5</td>\n",
       "      <td>5</td>\n",
       "      <td>5</td>\n",
       "      <td>5</td>\n",
       "    </tr>\n",
       "    <tr>\n",
       "      <th>346</th>\n",
       "      <td>2019-08-19</td>\n",
       "      <td>1</td>\n",
       "      <td>1</td>\n",
       "      <td>1</td>\n",
       "      <td>1</td>\n",
       "    </tr>\n",
       "  </tbody>\n",
       "</table>\n",
       "<p>347 rows × 5 columns</p>\n",
       "</div>"
      ],
      "text/plain": [
       "          Date  Location  Reviews  sentiment  sentiment_category\n",
       "0   2018-08-01         0       12         12                  12\n",
       "1   2018-08-02         0        2          2                   2\n",
       "2   2018-08-03         0        2          2                   2\n",
       "3   2018-08-04         1        2          2                   2\n",
       "4   2018-08-05         1        2          2                   2\n",
       "..         ...       ...      ...        ...                 ...\n",
       "342 2019-08-13         3        4          4                   4\n",
       "343 2019-08-14         2        2          2                   2\n",
       "344 2019-08-17         5        6          6                   6\n",
       "345 2019-08-18         5        5          5                   5\n",
       "346 2019-08-19         1        1          1                   1\n",
       "\n",
       "[347 rows x 5 columns]"
      ]
     },
     "execution_count": 11,
     "metadata": {},
     "output_type": "execute_result"
    }
   ],
   "source": [
    "neg"
   ]
  },
  {
   "cell_type": "code",
   "execution_count": 12,
   "id": "99005d26-91ea-474b-b396-638e56ad7005",
   "metadata": {},
   "outputs": [],
   "source": [
    "#Saving the final data into excel\n",
    "df.to_excel('test_data_5.xlsx')"
   ]
  },
  {
   "cell_type": "code",
   "execution_count": 13,
   "id": "1e6f598f-570e-4ab1-b81e-db98cd83349b",
   "metadata": {},
   "outputs": [],
   "source": [
    "#credits : https://www.natasshaselvaraj.com/twitter-sentiment-analysis-with-python/"
   ]
  },
  {
   "cell_type": "code",
   "execution_count": null,
   "id": "783cdc71",
   "metadata": {},
   "outputs": [],
   "source": []
  }
 ],
 "metadata": {
  "kernelspec": {
   "display_name": "Python 3 (ipykernel)",
   "language": "python",
   "name": "python3"
  },
  "language_info": {
   "codemirror_mode": {
    "name": "ipython",
    "version": 3
   },
   "file_extension": ".py",
   "mimetype": "text/x-python",
   "name": "python",
   "nbconvert_exporter": "python",
   "pygments_lexer": "ipython3",
   "version": "3.8.13"
  }
 },
 "nbformat": 4,
 "nbformat_minor": 5
}
